{
  "nbformat": 4,
  "nbformat_minor": 0,
  "metadata": {
    "colab": {
      "provenance": [],
      "authorship_tag": "ABX9TyMdn5/eTxPI1ZEKcqS270FH",
      "include_colab_link": true
    },
    "kernelspec": {
      "name": "python3",
      "display_name": "Python 3"
    },
    "language_info": {
      "name": "python"
    }
  },
  "cells": [
    {
      "cell_type": "markdown",
      "metadata": {
        "id": "view-in-github",
        "colab_type": "text"
      },
      "source": [
        "<a href=\"https://colab.research.google.com/github/AlwinBarredo/58009-DSAA/blob/main/Linked_Stack.ipynb\" target=\"_parent\"><img src=\"https://colab.research.google.com/assets/colab-badge.svg\" alt=\"Open In Colab\"/></a>"
      ]
    },
    {
      "cell_type": "code",
      "execution_count": 11,
      "metadata": {
        "colab": {
          "base_uri": "https://localhost:8080/"
        },
        "id": "QxMFZKmDmA_p",
        "outputId": "b1827f6b-62c8-460c-af32-15966d9feec3"
      },
      "outputs": [
        {
          "output_type": "stream",
          "name": "stdout",
          "text": [
            "['Mon', 'Tue', 'Wed', 'Thu', 'Fri', 'Sat', 'Sun']\n",
            "Sun\n",
            "['Mon', 'Tue', 'Wed', 'Thu', 'Fri', 'Sat']\n",
            "Sat\n",
            "['Mon', 'Tue', 'Wed', 'Thu', 'Fri']\n",
            "Fri\n",
            "['Mon', 'Tue', 'Wed', 'Thu']\n",
            "Thu\n",
            "['Mon', 'Tue', 'Wed']\n",
            "Wed\n",
            "['Mon', 'Tue']\n",
            "Tue\n",
            "['Mon']\n",
            "Mon\n",
            "[]\n"
          ]
        }
      ],
      "source": [
        "class Stack:\n",
        " def __init__(self):\n",
        "  self.stack = []\n",
        "\n",
        " def add(self, dataval):\n",
        "  if dataval not in self.stack:\n",
        "    self.stack.append(dataval)\n",
        "    return True\n",
        "\n",
        "  else:\n",
        "    return False\n",
        "\n",
        " def remove(self):\n",
        "  if len(self.stack) <= 0:\n",
        "    return \"No element in the Stack\"\n",
        "\n",
        "  else:\n",
        "    return self.stack.pop()\n",
        "\n",
        "AStack = Stack()\n",
        "AStack.add(\"Mon\")\n",
        "AStack.add(\"Tue\")\n",
        "AStack.add(\"Wed\")\n",
        "AStack.add(\"Thu\")\n",
        "AStack.add(\"Fri\")\n",
        "AStack.add(\"Sat\")\n",
        "AStack.add(\"Sun\")\n",
        "print(AStack.stack)\n",
        "print(AStack.remove())\n",
        "print(AStack.stack)\n",
        "print(AStack.remove())\n",
        "print(AStack.stack)\n",
        "print(AStack.remove())\n",
        "print(AStack.stack)\n",
        "print(AStack.remove())\n",
        "print(AStack.stack)\n",
        "print(AStack.remove())\n",
        "print(AStack.stack)\n",
        "print(AStack.remove())\n",
        "print(AStack.stack)\n",
        "print(AStack.remove())\n",
        "print(AStack.stack)"
      ]
    },
    {
      "cell_type": "code",
      "source": [
        "def create_stack():\n",
        "\n",
        " stack = []\n",
        "\n",
        " return stack\n",
        "\n",
        "\n",
        "def is_empty(stack):\n",
        "\n",
        " return len(stack) == 0\n",
        "\n",
        "\n",
        "\n",
        "def push(stack, item):\n",
        "\n",
        " stack.append(item)\n",
        "\n",
        " print(\"Pushed Element: \" + item)\n",
        "\n",
        "\n",
        "\n",
        "def pop(stack):\n",
        "\n",
        " if (is_empty(stack)):\n",
        "\n",
        "  return \"The stack is empty\"\n",
        "\n",
        " return stack.pop()\n",
        "\n",
        "\n",
        "\n",
        "stack = create_stack()\n",
        "\n",
        "push(stack, str(1))\n",
        "\n",
        "push(stack, str(2))\n",
        "\n",
        "push(stack, str(3))\n",
        "\n",
        "push(stack, str(4))\n",
        "\n",
        "push(stack, str(5))\n",
        "\n",
        "pop(stack)\n",
        "\n",
        "pop(stack)\n",
        "\n",
        "pop(stack)\n",
        "\n",
        "def stack_length(stack):\n",
        " return len(stack)\n",
        "\n",
        "length = stack_length(stack)\n",
        "print(\"Stack length:\", length)\n",
        "\n",
        "\n",
        "\n",
        "\n",
        "\n",
        "print(\"The elements in the stack are:\"+ str(stack))"
      ],
      "metadata": {
        "colab": {
          "base_uri": "https://localhost:8080/"
        },
        "id": "JFiIUCbbgP9c",
        "outputId": "c7e09122-ae67-4347-80dc-beab6a88500e"
      },
      "execution_count": 12,
      "outputs": [
        {
          "output_type": "stream",
          "name": "stdout",
          "text": [
            "Pushed Element: 1\n",
            "Pushed Element: 2\n",
            "Pushed Element: 3\n",
            "Pushed Element: 4\n",
            "Pushed Element: 5\n",
            "Stack length: 2\n",
            "The elements in the stack are:['1', '2']\n"
          ]
        }
      ]
    }
  ]
}