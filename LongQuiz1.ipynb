{
  "nbformat": 4,
  "nbformat_minor": 0,
  "metadata": {
    "colab": {
      "provenance": [],
      "authorship_tag": "ABX9TyPBhNmC+d0OJUguFfwC0CGa",
      "include_colab_link": true
    },
    "kernelspec": {
      "name": "python3",
      "display_name": "Python 3"
    },
    "language_info": {
      "name": "python"
    }
  },
  "cells": [
    {
      "cell_type": "markdown",
      "metadata": {
        "id": "view-in-github",
        "colab_type": "text"
      },
      "source": [
        "<a href=\"https://colab.research.google.com/github/AlwinBarredo/58009-DSAA/blob/main/LongQuiz1.ipynb\" target=\"_parent\"><img src=\"https://colab.research.google.com/assets/colab-badge.svg\" alt=\"Open In Colab\"/></a>"
      ]
    },
    {
      "cell_type": "code",
      "source": [
        "full_name = \"Alwin Barredo\"\n",
        "name_array = list(full_name)\n",
        "reversed_name_array = []\n",
        "\n",
        "for char in name_array:\n",
        "    reversed_name_array.insert(0, char)\n",
        "    reversed_name = ''.join(reversed_name_array)\n",
        "    print(reversed_name)"
      ],
      "metadata": {
        "colab": {
          "base_uri": "https://localhost:8080/"
        },
        "id": "xrRiwEej9OU3",
        "outputId": "df8b7283-f6ae-43e4-b359-1f641dcdb4ee"
      },
      "execution_count": 49,
      "outputs": [
        {
          "output_type": "stream",
          "name": "stdout",
          "text": [
            "A\n",
            "lA\n",
            "wlA\n",
            "iwlA\n",
            "niwlA\n",
            " niwlA\n",
            "B niwlA\n",
            "aB niwlA\n",
            "raB niwlA\n",
            "rraB niwlA\n",
            "erraB niwlA\n",
            "derraB niwlA\n",
            "oderraB niwlA\n"
          ]
        }
      ]
    },
    {
      "cell_type": "code",
      "source": [
        "class Node:\n",
        "    def __init__(self, data):\n",
        "        self.data = data\n",
        "        self.next = None\n",
        "\n",
        "class LinkedList:\n",
        "    def __init__(self):\n",
        "        self.head = None\n",
        "\n",
        "    def append(self, data):\n",
        "        new_node = Node(data)\n",
        "        if not self.head:\n",
        "            self.head = new_node\n",
        "        else:\n",
        "            current = self.head\n",
        "            while current.next:\n",
        "                current = current.next\n",
        "            current.next = new_node\n",
        "\n",
        "def is_prime(n):\n",
        "    if n <= 1:\n",
        "        return False\n",
        "    if n <= 3:\n",
        "        return True\n",
        "    if n % 2 == 0 or n % 3 == 0:\n",
        "        return False\n",
        "    i = 5\n",
        "    while i * i <= n:\n",
        "        if n % i == 0 or n % (i + 2) == 0:\n",
        "            return False\n",
        "        i += 6\n",
        "    return True\n",
        "\n",
        "wholenumbers = list(range(1, 11))\n",
        "\n",
        "linked_list = LinkedList()\n",
        "\n",
        "for num in wholenumbers:\n",
        "    if is_prime(num):\n",
        "        classification = \"prime\"\n",
        "    else:\n",
        "        classification = \"composite\"\n",
        "    linked_list.append((num, classification))\n",
        "current = linked_list.head\n",
        "while current:\n",
        "    data, classification = current.data\n",
        "    print(f\"{data} is {classification}.\")\n",
        "    current = current.next\n"
      ],
      "metadata": {
        "colab": {
          "base_uri": "https://localhost:8080/"
        },
        "id": "6zneoxnl8-nv",
        "outputId": "6c119b3e-cde5-45ba-b0ed-b15568902162"
      },
      "execution_count": 50,
      "outputs": [
        {
          "output_type": "stream",
          "name": "stdout",
          "text": [
            "1 is composite.\n",
            "2 is prime.\n",
            "3 is prime.\n",
            "4 is composite.\n",
            "5 is prime.\n",
            "6 is composite.\n",
            "7 is prime.\n",
            "8 is composite.\n",
            "9 is composite.\n",
            "10 is composite.\n"
          ]
        }
      ]
    }
  ]
}