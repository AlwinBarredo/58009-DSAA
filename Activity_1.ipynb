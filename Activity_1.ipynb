{
  "nbformat": 4,
  "nbformat_minor": 0,
  "metadata": {
    "colab": {
      "provenance": [],
      "authorship_tag": "ABX9TyOJmDvy1cGeO6bSP8sq/9c/",
      "include_colab_link": true
    },
    "kernelspec": {
      "name": "python3",
      "display_name": "Python 3"
    },
    "language_info": {
      "name": "python"
    }
  },
  "cells": [
    {
      "cell_type": "markdown",
      "metadata": {
        "id": "view-in-github",
        "colab_type": "text"
      },
      "source": [
        "<a href=\"https://colab.research.google.com/github/AlwinBarredo/58009-DSAA/blob/main/Activity_1.ipynb\" target=\"_parent\"><img src=\"https://colab.research.google.com/assets/colab-badge.svg\" alt=\"Open In Colab\"/></a>"
      ]
    },
    {
      "cell_type": "markdown",
      "source": [
        "NO.1"
      ],
      "metadata": {
        "id": "uFxa7HSsiOzo"
      }
    },
    {
      "cell_type": "code",
      "source": [
        "numbers = [1, 2, 3, 4, 5, 6, 7, 8, 9, 0]\n",
        "\n",
        "for x in numbers:\n",
        "    print(\"Index\", numbers.index(x),\"= \",x)\n",
        "\n",
        "print(\"The sum is =\", sum(numbers))\n"
      ],
      "metadata": {
        "colab": {
          "base_uri": "https://localhost:8080/"
        },
        "id": "S3Au7BVOfzST",
        "outputId": "3aa1f885-e0f2-4539-ab5c-a8d89a2adc5e"
      },
      "execution_count": 50,
      "outputs": [
        {
          "output_type": "stream",
          "name": "stdout",
          "text": [
            "Index 0 =  1\n",
            "Index 1 =  2\n",
            "Index 2 =  3\n",
            "Index 3 =  4\n",
            "Index 4 =  5\n",
            "Index 5 =  6\n",
            "Index 6 =  7\n",
            "Index 7 =  8\n",
            "Index 8 =  9\n",
            "Index 9 =  0\n",
            "The sum is = 45\n"
          ]
        }
      ]
    },
    {
      "cell_type": "markdown",
      "source": [
        "NO.2\n"
      ],
      "metadata": {
        "id": "2D7uG9lgibz4"
      }
    },
    {
      "cell_type": "code",
      "source": [
        "numbers = [1, 2, 3, 4, 5, 6, 7, 8, 9, 10]\n",
        "x = numbers\n",
        "numbers.append(11)\n",
        "result = ' '.join(map(str, x))\n",
        "print(result)\n"
      ],
      "metadata": {
        "colab": {
          "base_uri": "https://localhost:8080/"
        },
        "id": "S9LLDROKicwg",
        "outputId": "c8f9d974-faf4-41e5-a695-15075d595fe0"
      },
      "execution_count": 32,
      "outputs": [
        {
          "output_type": "stream",
          "name": "stdout",
          "text": [
            "1 2 3 4 5 6 7 8 9 10 11\n"
          ]
        }
      ]
    },
    {
      "cell_type": "markdown",
      "source": [
        "NO.3"
      ],
      "metadata": {
        "id": "HZ3id_lFinHI"
      }
    },
    {
      "cell_type": "code",
      "source": [
        "numbers = [1, 2, 3, 4, 5, 6, 7, 8, 9, 10]\n",
        "x = numbers\n",
        "numbers.insert(1, 0)\n",
        "result = ' '.join(map(str, x))\n",
        "print(result)\n"
      ],
      "metadata": {
        "colab": {
          "base_uri": "https://localhost:8080/"
        },
        "id": "3oo_ZmnSioUw",
        "outputId": "89fd10f5-96cc-4925-9e7a-b9ea1c5a1eca"
      },
      "execution_count": 37,
      "outputs": [
        {
          "output_type": "stream",
          "name": "stdout",
          "text": [
            "1 0 2 3 4 5 6 7 8 9 10\n"
          ]
        }
      ]
    },
    {
      "cell_type": "markdown",
      "source": [
        "NO.4"
      ],
      "metadata": {
        "id": "IlEOUXR5jihk"
      }
    },
    {
      "cell_type": "code",
      "source": [
        "numbers = [5, 4, 3, 2, 1]\n",
        "x = numbers\n",
        "numbers.reverse()\n",
        "result = ' '.join(map(str, x))\n",
        "print(result)"
      ],
      "metadata": {
        "colab": {
          "base_uri": "https://localhost:8080/"
        },
        "id": "pNZh2r3NjjT1",
        "outputId": "13051cc2-fe1c-46e1-e4b2-085ba160516d"
      },
      "execution_count": 30,
      "outputs": [
        {
          "output_type": "stream",
          "name": "stdout",
          "text": [
            "1 2 3 4 5\n"
          ]
        }
      ]
    },
    {
      "cell_type": "markdown",
      "source": [
        "NO.5"
      ],
      "metadata": {
        "id": "qklSNL2Cjssk"
      }
    },
    {
      "cell_type": "code",
      "source": [
        "numbers = [5, 4, 3, 2, 1]\n",
        "x = len(numbers)\n",
        "print(x)"
      ],
      "metadata": {
        "colab": {
          "base_uri": "https://localhost:8080/"
        },
        "id": "qjNH9HVjjtvr",
        "outputId": "c8df74b5-ba4f-44ed-b806-ba2b188ccfff"
      },
      "execution_count": 43,
      "outputs": [
        {
          "output_type": "stream",
          "name": "stdout",
          "text": [
            "5\n"
          ]
        }
      ]
    }
  ]
}