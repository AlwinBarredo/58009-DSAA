{
  "nbformat": 4,
  "nbformat_minor": 0,
  "metadata": {
    "colab": {
      "provenance": [],
      "authorship_tag": "ABX9TyN10ApkHztH/Xt5Kxsq6+VU",
      "include_colab_link": true
    },
    "kernelspec": {
      "name": "python3",
      "display_name": "Python 3"
    },
    "language_info": {
      "name": "python"
    }
  },
  "cells": [
    {
      "cell_type": "markdown",
      "metadata": {
        "id": "view-in-github",
        "colab_type": "text"
      },
      "source": [
        "<a href=\"https://colab.research.google.com/github/AlwinBarredo/58009-DSAA/blob/main/Midterm_Exam.ipynb\" target=\"_parent\"><img src=\"https://colab.research.google.com/assets/colab-badge.svg\" alt=\"Open In Colab\"/></a>"
      ]
    },
    {
      "cell_type": "code",
      "execution_count": 3,
      "metadata": {
        "colab": {
          "base_uri": "https://localhost:8080/"
        },
        "id": "tXmmuj1rIZzA",
        "outputId": "e1af83f3-fcc2-4220-eded-fe56623c50e7"
      },
      "outputs": [
        {
          "output_type": "stream",
          "name": "stdout",
          "text": [
            "Node: C\n",
            "Edge: C -> A\n",
            "Edge: C -> B\n",
            "Node: A\n",
            "Edge: A -> C\n",
            "Edge: A -> E\n",
            "Node: B\n",
            "Edge: B -> C\n",
            "Edge: B -> D\n",
            "Node: E\n",
            "Edge: E -> A\n",
            "Edge: E -> F\n",
            "Node: D\n",
            "Edge: D -> B\n",
            "Edge: D -> G\n",
            "Node: F\n",
            "Edge: F -> E\n",
            "Edge: F -> G\n",
            "Node: G\n",
            "Edge: G -> D\n",
            "Edge: G -> F\n"
          ]
        }
      ],
      "source": [
        "def display_graph(graph):\n",
        "  for node, adjacent_nodes in graph.items():\n",
        "    print(f\"Node: {node}\")\n",
        "    for adjacent_node in adjacent_nodes:\n",
        "      print(f\"Edge: {node} -> {adjacent_node}\")\n",
        "if __name__ == \"__main__\":\n",
        "  graph = {\n",
        "    \"C\": [\"A\", \"B\"],\n",
        "    \"A\": [\"C\", \"E\"],\n",
        "    \"B\": [\"C\", \"D\"],\n",
        "    \"E\": [\"A\", \"F\"],\n",
        "    \"D\": [\"B\", \"G\"],\n",
        "    \"F\": [\"E\", \"G\"],\n",
        "    \"G\": [\"D\", \"F\"]\n",
        "  }\n",
        "  display_graph(graph)\n"
      ]
    }
  ]
}