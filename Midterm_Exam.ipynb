{
  "nbformat": 4,
  "nbformat_minor": 0,
  "metadata": {
    "colab": {
      "provenance": [],
      "authorship_tag": "ABX9TyPQwUWMNpyaDQFf0u6pnBl3",
      "include_colab_link": true
    },
    "kernelspec": {
      "name": "python3",
      "display_name": "Python 3"
    },
    "language_info": {
      "name": "python"
    }
  },
  "cells": [
    {
      "cell_type": "markdown",
      "metadata": {
        "id": "view-in-github",
        "colab_type": "text"
      },
      "source": [
        "<a href=\"https://colab.research.google.com/github/AlwinBarredo/58009-DSAA/blob/main/Midterm_Exam.ipynb\" target=\"_parent\"><img src=\"https://colab.research.google.com/assets/colab-badge.svg\" alt=\"Open In Colab\"/></a>"
      ]
    },
    {
      "cell_type": "code",
      "execution_count": 4,
      "metadata": {
        "colab": {
          "base_uri": "https://localhost:8080/"
        },
        "id": "tXmmuj1rIZzA",
        "outputId": "097918ea-c5b9-4986-f474-243273ae2258"
      },
      "outputs": [
        {
          "output_type": "stream",
          "name": "stdout",
          "text": [
            "Vertices:\n",
            "B\n",
            "A\n",
            "G\n",
            "C\n",
            "E\n",
            "D\n",
            "F\n",
            "Edges:\n",
            "C -> A\n",
            "C -> B\n",
            "A -> C\n",
            "A -> E\n",
            "B -> C\n",
            "B -> D\n",
            "E -> A\n",
            "E -> F\n",
            "D -> B\n",
            "D -> G\n",
            "F -> E\n",
            "F -> G\n",
            "G -> D\n",
            "G -> F\n"
          ]
        }
      ],
      "source": [
        "def display_graph(graph):\n",
        "  vertices = set(graph.keys())\n",
        "\n",
        "  edges = []\n",
        "  for node, adjacent_nodes in graph.items():\n",
        "    for adjacent_node in adjacent_nodes:\n",
        "      edges.append((node, adjacent_node))\n",
        "  print(\"Vertices:\")\n",
        "  for vertex in vertices:\n",
        "    print(vertex)\n",
        "  print(\"Edges:\")\n",
        "  for edge in edges:\n",
        "    print(f\"{edge[0]} -> {edge[1]}\")\n",
        "if __name__ == \"__main__\":\n",
        "  graph = {\n",
        "    \"C\": [\"A\", \"B\"],\n",
        "    \"A\": [\"C\", \"E\"],\n",
        "    \"B\": [\"C\", \"D\"],\n",
        "    \"E\": [\"A\", \"F\"],\n",
        "    \"D\": [\"B\", \"G\"],\n",
        "    \"F\": [\"E\", \"G\"],\n",
        "    \"G\": [\"D\", \"F\"]\n",
        "  }\n",
        "  display_graph(graph)"
      ]
    }
  ]
}