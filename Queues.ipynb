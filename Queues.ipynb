{
  "nbformat": 4,
  "nbformat_minor": 0,
  "metadata": {
    "colab": {
      "provenance": [],
      "authorship_tag": "ABX9TyMwNYI+2AIfFsPrsJmVhdaY",
      "include_colab_link": true
    },
    "kernelspec": {
      "name": "python3",
      "display_name": "Python 3"
    },
    "language_info": {
      "name": "python"
    }
  },
  "cells": [
    {
      "cell_type": "markdown",
      "metadata": {
        "id": "view-in-github",
        "colab_type": "text"
      },
      "source": [
        "<a href=\"https://colab.research.google.com/github/AlwinBarredo/58009-DSAA/blob/main/Queues.ipynb\" target=\"_parent\"><img src=\"https://colab.research.google.com/assets/colab-badge.svg\" alt=\"Open In Colab\"/></a>"
      ]
    },
    {
      "cell_type": "code",
      "execution_count": 20,
      "metadata": {
        "colab": {
          "base_uri": "https://localhost:8080/"
        },
        "id": "QxMFZKmDmA_p",
        "outputId": "d83666bd-ed72-4b91-da29-60fb8563e445"
      },
      "outputs": [
        {
          "output_type": "stream",
          "name": "stdout",
          "text": [
            "Serving: Mami\n",
            "Pending Orders:\n",
            "Lomi\n",
            "Goto\n",
            "Pares\n"
          ]
        }
      ],
      "source": [
        "import queue\n",
        "\n",
        "order_queue = queue.Queue()\n",
        "\n",
        "order_queue.put(\"Mami\")\n",
        "order_queue.put(\"Lomi\")\n",
        "order_queue.put(\"Goto\")\n",
        "order_queue.put(\"Pares\")\n",
        "\n",
        "serving_order = order_queue.get()\n",
        "print(f\"Serving: {serving_order}\")\n",
        "\n",
        "pending_orders = []\n",
        "while not order_queue.empty():\n",
        "    pending_order = order_queue.get()\n",
        "    pending_orders.append(pending_order)\n",
        "\n",
        "print(\"Pending Orders:\")\n",
        "for order in pending_orders:\n",
        "    print(order)"
      ]
    }
  ]
}