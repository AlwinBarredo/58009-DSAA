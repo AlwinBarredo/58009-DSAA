{
  "nbformat": 4,
  "nbformat_minor": 0,
  "metadata": {
    "colab": {
      "provenance": [],
      "authorship_tag": "ABX9TyNaaKZMeqLR5U9LdhZ0SUQU",
      "include_colab_link": true
    },
    "kernelspec": {
      "name": "python3",
      "display_name": "Python 3"
    },
    "language_info": {
      "name": "python"
    }
  },
  "cells": [
    {
      "cell_type": "markdown",
      "metadata": {
        "id": "view-in-github",
        "colab_type": "text"
      },
      "source": [
        "<a href=\"https://colab.research.google.com/github/AlwinBarredo/58009-DSAA/blob/main/Prelim_Exam.ipynb\" target=\"_parent\"><img src=\"https://colab.research.google.com/assets/colab-badge.svg\" alt=\"Open In Colab\"/></a>"
      ]
    },
    {
      "cell_type": "code",
      "execution_count": 3,
      "metadata": {
        "colab": {
          "base_uri": "https://localhost:8080/"
        },
        "id": "tXmmuj1rIZzA",
        "outputId": "96c0372e-ad8d-4566-9b16-a66c4380ab48"
      },
      "outputs": [
        {
          "output_type": "stream",
          "name": "stdout",
          "text": [
            "Total score: 397\n"
          ]
        }
      ],
      "source": [
        "scores = [26, 49, 98, 87, 62, 75]\n",
        "\n",
        "total_score = sum(scores)\n",
        "\n",
        "print(\"Total score:\", total_score)\n"
      ]
    },
    {
      "cell_type": "code",
      "source": [
        "scores = [26, 49, 98, 87, 62, 75]\n",
        "\n",
        "sorted_scores = sorted(scores)\n",
        "\n",
        "print(\"Sorted scores in ascending order:\", sorted_scores)\n",
        "\n"
      ],
      "metadata": {
        "colab": {
          "base_uri": "https://localhost:8080/"
        },
        "id": "-O2lVLe49Ixb",
        "outputId": "d7b007e1-a257-4e4b-e78f-0f2bf4fc4af8"
      },
      "execution_count": 4,
      "outputs": [
        {
          "output_type": "stream",
          "name": "stdout",
          "text": [
            "Sorted scores in ascending order: [26, 49, 62, 75, 87, 98]\n"
          ]
        }
      ]
    }
  ]
}